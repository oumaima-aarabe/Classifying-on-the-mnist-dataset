{
 "cells": [
  {
   "cell_type": "markdown",
   "id": "21c4771c",
   "metadata": {
    "papermill": {
     "duration": 0.005546,
     "end_time": "2024-10-25T00:49:30.200576",
     "exception": false,
     "start_time": "2024-10-25T00:49:30.195030",
     "status": "completed"
    },
    "tags": []
   },
   "source": [
    "***import relevant packages***"
   ]
  },
  {
   "cell_type": "code",
   "execution_count": 1,
   "id": "7b9e0150",
   "metadata": {
    "execution": {
     "iopub.execute_input": "2024-10-25T00:49:30.213042Z",
     "iopub.status.busy": "2024-10-25T00:49:30.212606Z",
     "iopub.status.idle": "2024-10-25T00:49:44.989592Z",
     "shell.execute_reply": "2024-10-25T00:49:44.988429Z"
    },
    "papermill": {
     "duration": 14.786004,
     "end_time": "2024-10-25T00:49:44.992229",
     "exception": false,
     "start_time": "2024-10-25T00:49:30.206225",
     "status": "completed"
    },
    "tags": []
   },
   "outputs": [],
   "source": [
    "import numpy as np\n",
    "import tensorflow as tf\n",
    "import tensorflow_datasets as tfds"
   ]
  },
  {
   "cell_type": "markdown",
   "id": "09ce3ca3",
   "metadata": {
    "papermill": {
     "duration": 0.004559,
     "end_time": "2024-10-25T00:49:45.001738",
     "exception": false,
     "start_time": "2024-10-25T00:49:44.997179",
     "status": "completed"
    },
    "tags": []
   },
   "source": [
    "***load data***"
   ]
  },
  {
   "cell_type": "code",
   "execution_count": 2,
   "id": "fc27a2cd",
   "metadata": {
    "execution": {
     "iopub.execute_input": "2024-10-25T00:49:45.014618Z",
     "iopub.status.busy": "2024-10-25T00:49:45.013561Z",
     "iopub.status.idle": "2024-10-25T00:49:49.147310Z",
     "shell.execute_reply": "2024-10-25T00:49:49.146175Z"
    },
    "papermill": {
     "duration": 4.143331,
     "end_time": "2024-10-25T00:49:49.149925",
     "exception": false,
     "start_time": "2024-10-25T00:49:45.006594",
     "status": "completed"
    },
    "tags": []
   },
   "outputs": [
    {
     "name": "stdout",
     "output_type": "stream",
     "text": [
      "\u001b[1mDownloading and preparing dataset 11.06 MiB (download: 11.06 MiB, generated: 21.00 MiB, total: 32.06 MiB) to /root/tensorflow_datasets/mnist/3.0.1...\u001b[0m\n"
     ]
    },
    {
     "data": {
      "application/vnd.jupyter.widget-view+json": {
       "model_id": "0b456bd0b4ee41529703a07c3ce7a8b7",
       "version_major": 2,
       "version_minor": 0
      },
      "text/plain": [
       "Dl Completed...:   0%|          | 0/5 [00:00<?, ? file/s]"
      ]
     },
     "metadata": {},
     "output_type": "display_data"
    },
    {
     "name": "stdout",
     "output_type": "stream",
     "text": [
      "\u001b[1mDataset mnist downloaded and prepared to /root/tensorflow_datasets/mnist/3.0.1. Subsequent calls will reuse this data.\u001b[0m\n"
     ]
    },
    {
     "data": {
      "text/plain": [
       "tfds.core.DatasetInfo(\n",
       "    name='mnist',\n",
       "    full_name='mnist/3.0.1',\n",
       "    description=\"\"\"\n",
       "    The MNIST database of handwritten digits.\n",
       "    \"\"\",\n",
       "    homepage='http://yann.lecun.com/exdb/mnist/',\n",
       "    data_dir='/root/tensorflow_datasets/mnist/incomplete.7B777S_3.0.1/',\n",
       "    file_format=tfrecord,\n",
       "    download_size=11.06 MiB,\n",
       "    dataset_size=21.00 MiB,\n",
       "    features=FeaturesDict({\n",
       "        'image': Image(shape=(28, 28, 1), dtype=uint8),\n",
       "        'label': ClassLabel(shape=(), dtype=int64, num_classes=10),\n",
       "    }),\n",
       "    supervised_keys=('image', 'label'),\n",
       "    disable_shuffling=False,\n",
       "    splits={\n",
       "        'test': <SplitInfo num_examples=10000, num_shards=1>,\n",
       "        'train': <SplitInfo num_examples=60000, num_shards=1>,\n",
       "    },\n",
       "    citation=\"\"\"@article{lecun2010mnist,\n",
       "      title={MNIST handwritten digit database},\n",
       "      author={LeCun, Yann and Cortes, Corinna and Burges, CJ},\n",
       "      journal={ATT Labs [Online]. Available: http://yann.lecun.com/exdb/mnist},\n",
       "      volume={2},\n",
       "      year={2010}\n",
       "    }\"\"\",\n",
       ")"
      ]
     },
     "execution_count": 2,
     "metadata": {},
     "output_type": "execute_result"
    }
   ],
   "source": [
    "#loading dataset as a 2-tuple structure [input, target]\n",
    "#using with info to provide a tuple containing info about version, features, n samples of the dataset\n",
    "dataset, info = tfds.load(name='mnist', as_supervised=True, with_info=True)\n",
    "info"
   ]
  },
  {
   "cell_type": "code",
   "execution_count": 3,
   "id": "e5341087",
   "metadata": {
    "execution": {
     "iopub.execute_input": "2024-10-25T00:49:49.162790Z",
     "iopub.status.busy": "2024-10-25T00:49:49.162416Z",
     "iopub.status.idle": "2024-10-25T00:49:49.176243Z",
     "shell.execute_reply": "2024-10-25T00:49:49.175200Z"
    },
    "papermill": {
     "duration": 0.023337,
     "end_time": "2024-10-25T00:49:49.178633",
     "exception": false,
     "start_time": "2024-10-25T00:49:49.155296",
     "status": "completed"
    },
    "tags": []
   },
   "outputs": [
    {
     "data": {
      "text/plain": [
       "<tf.Tensor: shape=(), dtype=int64, numpy=10000>"
      ]
     },
     "execution_count": 3,
     "metadata": {},
     "output_type": "execute_result"
    }
   ],
   "source": [
    "train, test = dataset['train'], dataset['test']\n",
    "\n",
    "#take a 10% of the training dataset to serve as validation\n",
    "n_validation_samp = tf.cast(0.1 * info.splits['train'].num_examples, tf.int64)\n",
    "n_test_samp = tf.cast(info.splits['test'].num_examples, tf.int64)\n",
    "n_test_samp"
   ]
  },
  {
   "cell_type": "markdown",
   "id": "bb169bd3",
   "metadata": {
    "papermill": {
     "duration": 0.005375,
     "end_time": "2024-10-25T00:49:49.189681",
     "exception": false,
     "start_time": "2024-10-25T00:49:49.184306",
     "status": "completed"
    },
    "tags": []
   },
   "source": [
    "**Scale Data**"
   ]
  },
  {
   "cell_type": "code",
   "execution_count": 4,
   "id": "c0976521",
   "metadata": {
    "execution": {
     "iopub.execute_input": "2024-10-25T00:49:49.203818Z",
     "iopub.status.busy": "2024-10-25T00:49:49.203363Z",
     "iopub.status.idle": "2024-10-25T00:49:49.270463Z",
     "shell.execute_reply": "2024-10-25T00:49:49.269347Z"
    },
    "papermill": {
     "duration": 0.076648,
     "end_time": "2024-10-25T00:49:49.272940",
     "exception": false,
     "start_time": "2024-10-25T00:49:49.196292",
     "status": "completed"
    },
    "tags": []
   },
   "outputs": [],
   "source": [
    "#making results more numerically stable\n",
    "def scale(image, label):\n",
    "    image = tf.cast(image, tf.float32)\n",
    "    image /= 255.0\n",
    "    return image, label\n",
    "scl_train = train.map(scale)\n",
    "scl_test = test.map(scale)"
   ]
  },
  {
   "cell_type": "code",
   "execution_count": 5,
   "id": "479af668",
   "metadata": {
    "execution": {
     "iopub.execute_input": "2024-10-25T00:49:49.285854Z",
     "iopub.status.busy": "2024-10-25T00:49:49.285415Z",
     "iopub.status.idle": "2024-10-25T00:49:49.299968Z",
     "shell.execute_reply": "2024-10-25T00:49:49.298925Z"
    },
    "papermill": {
     "duration": 0.024125,
     "end_time": "2024-10-25T00:49:49.302662",
     "exception": false,
     "start_time": "2024-10-25T00:49:49.278537",
     "status": "completed"
    },
    "tags": []
   },
   "outputs": [],
   "source": [
    "#shuffle data before splitting validation from train to make sure each batch is varient\n",
    "BUFFER_SIZE = 10000 #optimizing the computational power\n",
    "suffled_data = scl_train.shuffle(BUFFER_SIZE)\n",
    "validation_data = suffled_data.take(n_validation_samp)\n",
    "train_data = suffled_data.skip(n_validation_samp)\n"
   ]
  },
  {
   "cell_type": "markdown",
   "id": "e622b2f7",
   "metadata": {
    "papermill": {
     "duration": 0.00514,
     "end_time": "2024-10-25T00:49:49.313338",
     "exception": false,
     "start_time": "2024-10-25T00:49:49.308198",
     "status": "completed"
    },
    "tags": []
   },
   "source": [
    "***Mini-Batch Gradient Descent Setup***"
   ]
  },
  {
   "cell_type": "code",
   "execution_count": 6,
   "id": "38e2c1b4",
   "metadata": {
    "execution": {
     "iopub.execute_input": "2024-10-25T00:49:49.326410Z",
     "iopub.status.busy": "2024-10-25T00:49:49.325394Z",
     "iopub.status.idle": "2024-10-25T00:49:49.338220Z",
     "shell.execute_reply": "2024-10-25T00:49:49.337056Z"
    },
    "papermill": {
     "duration": 0.022176,
     "end_time": "2024-10-25T00:49:49.340958",
     "exception": false,
     "start_time": "2024-10-25T00:49:49.318782",
     "status": "completed"
    },
    "tags": []
   },
   "outputs": [],
   "source": [
    "# dividing the data into smaller chunks\n",
    "BATCH_SIZE = 128\n",
    "train_data = train_data.batch(BATCH_SIZE)\n",
    "# even as single-batch datasets \n",
    "# we need to ensure these datasets are represented in the same format as train_data\n",
    "validation_data = validation_data.batch(n_validation_samp)\n",
    "test_data = scl_test.batch(n_test_samp)"
   ]
  },
  {
   "cell_type": "code",
   "execution_count": 7,
   "id": "af22ae8f",
   "metadata": {
    "execution": {
     "iopub.execute_input": "2024-10-25T00:49:49.357647Z",
     "iopub.status.busy": "2024-10-25T00:49:49.356984Z",
     "iopub.status.idle": "2024-10-25T00:49:50.508528Z",
     "shell.execute_reply": "2024-10-25T00:49:50.507278Z"
    },
    "papermill": {
     "duration": 1.163993,
     "end_time": "2024-10-25T00:49:50.511700",
     "exception": false,
     "start_time": "2024-10-25T00:49:49.347707",
     "status": "completed"
    },
    "tags": []
   },
   "outputs": [],
   "source": [
    "# extract a batch of validation inputs and target for evaluation.\n",
    "validation_inputs, validation_targets = next(iter(validation_data))"
   ]
  },
  {
   "cell_type": "markdown",
   "id": "77c035b7",
   "metadata": {
    "papermill": {
     "duration": 0.005286,
     "end_time": "2024-10-25T00:49:50.522755",
     "exception": false,
     "start_time": "2024-10-25T00:49:50.517469",
     "status": "completed"
    },
    "tags": []
   },
   "source": [
    "### Model\n",
    "***Outline the model***"
   ]
  },
  {
   "cell_type": "code",
   "execution_count": 8,
   "id": "3457cd83",
   "metadata": {
    "execution": {
     "iopub.execute_input": "2024-10-25T00:49:50.536300Z",
     "iopub.status.busy": "2024-10-25T00:49:50.535357Z",
     "iopub.status.idle": "2024-10-25T00:49:50.541402Z",
     "shell.execute_reply": "2024-10-25T00:49:50.540256Z"
    },
    "papermill": {
     "duration": 0.015502,
     "end_time": "2024-10-25T00:49:50.543798",
     "exception": false,
     "start_time": "2024-10-25T00:49:50.528296",
     "status": "completed"
    },
    "tags": []
   },
   "outputs": [],
   "source": [
    "input_size = 28 * 28\n",
    "output_size = 10\n",
    "width1 = 128\n",
    "width2 = 64"
   ]
  },
  {
   "cell_type": "code",
   "execution_count": 9,
   "id": "321427c7",
   "metadata": {
    "execution": {
     "iopub.execute_input": "2024-10-25T00:49:50.557355Z",
     "iopub.status.busy": "2024-10-25T00:49:50.556217Z",
     "iopub.status.idle": "2024-10-25T00:49:50.678378Z",
     "shell.execute_reply": "2024-10-25T00:49:50.677305Z"
    },
    "papermill": {
     "duration": 0.132317,
     "end_time": "2024-10-25T00:49:50.681727",
     "exception": false,
     "start_time": "2024-10-25T00:49:50.549410",
     "status": "completed"
    },
    "tags": []
   },
   "outputs": [],
   "source": [
    "model = tf.keras.Sequential([\n",
    "    tf.keras.layers.Input(shape=(28, 28, 1)),\n",
    "    tf.keras.layers.Flatten(),\n",
    "    tf.keras.layers.Dense(width1, activation='relu'),\n",
    "    tf.keras.layers.Dense(width2, activation='relu'),\n",
    "    tf.keras.layers.Dense(output_size, activation='softmax')\n",
    "])"
   ]
  },
  {
   "cell_type": "markdown",
   "id": "4e12f94e",
   "metadata": {
    "papermill": {
     "duration": 0.007806,
     "end_time": "2024-10-25T00:49:50.698001",
     "exception": false,
     "start_time": "2024-10-25T00:49:50.690195",
     "status": "completed"
    },
    "tags": []
   },
   "source": [
    "**choose the optimizer and the loss function**"
   ]
  },
  {
   "cell_type": "code",
   "execution_count": 10,
   "id": "ac0112a3",
   "metadata": {
    "execution": {
     "iopub.execute_input": "2024-10-25T00:49:50.710964Z",
     "iopub.status.busy": "2024-10-25T00:49:50.710556Z",
     "iopub.status.idle": "2024-10-25T00:49:50.726493Z",
     "shell.execute_reply": "2024-10-25T00:49:50.725352Z"
    },
    "papermill": {
     "duration": 0.025538,
     "end_time": "2024-10-25T00:49:50.729093",
     "exception": false,
     "start_time": "2024-10-25T00:49:50.703555",
     "status": "completed"
    },
    "tags": []
   },
   "outputs": [],
   "source": [
    "model.compile(\n",
    "    optimizer='Adam',\n",
    "    loss='sparse_categorical_crossentropy',\n",
    "    metrics=['accuracy']\n",
    ")"
   ]
  },
  {
   "cell_type": "markdown",
   "id": "ccd97c2b",
   "metadata": {
    "papermill": {
     "duration": 0.005106,
     "end_time": "2024-10-25T00:49:50.739937",
     "exception": false,
     "start_time": "2024-10-25T00:49:50.734831",
     "status": "completed"
    },
    "tags": []
   },
   "source": [
    "### Training"
   ]
  },
  {
   "cell_type": "markdown",
   "id": "ff74b331",
   "metadata": {
    "papermill": {
     "duration": 0.005094,
     "end_time": "2024-10-25T00:49:50.750593",
     "exception": false,
     "start_time": "2024-10-25T00:49:50.745499",
     "status": "completed"
    },
    "tags": []
   },
   "source": [
    "**Monitoring setup to avoid overfitting && Stops automatically when no improvement**"
   ]
  },
  {
   "cell_type": "code",
   "execution_count": 11,
   "id": "1826b30e",
   "metadata": {
    "execution": {
     "iopub.execute_input": "2024-10-25T00:49:50.763959Z",
     "iopub.status.busy": "2024-10-25T00:49:50.762887Z",
     "iopub.status.idle": "2024-10-25T00:49:50.773515Z",
     "shell.execute_reply": "2024-10-25T00:49:50.772431Z"
    },
    "papermill": {
     "duration": 0.020143,
     "end_time": "2024-10-25T00:49:50.776102",
     "exception": false,
     "start_time": "2024-10-25T00:49:50.755959",
     "status": "completed"
    },
    "tags": []
   },
   "outputs": [],
   "source": [
    "from tensorflow.keras.callbacks import (\n",
    "    EarlyStopping,\n",
    "    ReduceLROnPlateau,\n",
    "    TensorBoard,\n",
    "    ModelCheckpoint\n",
    ")\n",
    "\n",
    "callbacks = [\n",
    "    EarlyStopping(\n",
    "        monitor='val_loss',\n",
    "        patience=5,\n",
    "        min_delta=0.001,\n",
    "        mode='min',\n",
    "        restore_best_weights=True,\n",
    "        verbose=1\n",
    "),\n",
    "    ModelCheckpoint(\n",
    "        'best_model.keras',\n",
    "        monitor='val_loss',\n",
    "        save_best_only=True,\n",
    "        mode='min',\n",
    "        verbose=1\n",
    "    ),\n",
    "    TensorBoard(log_dir='./logs')\n",
    "]"
   ]
  },
  {
   "cell_type": "code",
   "execution_count": 12,
   "id": "4b96c1d2",
   "metadata": {
    "execution": {
     "iopub.execute_input": "2024-10-25T00:49:50.788988Z",
     "iopub.status.busy": "2024-10-25T00:49:50.788572Z",
     "iopub.status.idle": "2024-10-25T00:51:12.642231Z",
     "shell.execute_reply": "2024-10-25T00:51:12.641055Z"
    },
    "papermill": {
     "duration": 81.862859,
     "end_time": "2024-10-25T00:51:12.644709",
     "exception": false,
     "start_time": "2024-10-25T00:49:50.781850",
     "status": "completed"
    },
    "tags": []
   },
   "outputs": [
    {
     "name": "stdout",
     "output_type": "stream",
     "text": [
      "Epoch 1/24\n",
      "\u001b[1m414/422\u001b[0m \u001b[32m━━━━━━━━━━━━━━━━━━━\u001b[0m\u001b[37m━\u001b[0m \u001b[1m0s\u001b[0m 8ms/step - accuracy: 0.8249 - loss: 0.6073\n",
      "Epoch 1: val_loss improved from inf to 0.18121, saving model to best_model.keras\n",
      "\u001b[1m422/422\u001b[0m \u001b[32m━━━━━━━━━━━━━━━━━━━━\u001b[0m\u001b[37m\u001b[0m \u001b[1m6s\u001b[0m 9ms/step - accuracy: 0.8266 - loss: 0.6016 - val_accuracy: 0.9498 - val_loss: 0.1812\n",
      "Epoch 2/24\n",
      "\u001b[1m418/422\u001b[0m \u001b[32m━━━━━━━━━━━━━━━━━━━\u001b[0m\u001b[37m━\u001b[0m \u001b[1m0s\u001b[0m 5ms/step - accuracy: 0.9556 - loss: 0.1485\n",
      "Epoch 2: val_loss improved from 0.18121 to 0.12025, saving model to best_model.keras\n",
      "\u001b[1m422/422\u001b[0m \u001b[32m━━━━━━━━━━━━━━━━━━━━\u001b[0m\u001b[37m\u001b[0m \u001b[1m3s\u001b[0m 6ms/step - accuracy: 0.9556 - loss: 0.1484 - val_accuracy: 0.9662 - val_loss: 0.1202\n",
      "Epoch 3/24\n",
      "\u001b[1m417/422\u001b[0m \u001b[32m━━━━━━━━━━━━━━━━━━━\u001b[0m\u001b[37m━\u001b[0m \u001b[1m0s\u001b[0m 5ms/step - accuracy: 0.9696 - loss: 0.1010\n",
      "Epoch 3: val_loss improved from 0.12025 to 0.09261, saving model to best_model.keras\n",
      "\u001b[1m422/422\u001b[0m \u001b[32m━━━━━━━━━━━━━━━━━━━━\u001b[0m\u001b[37m\u001b[0m \u001b[1m3s\u001b[0m 6ms/step - accuracy: 0.9697 - loss: 0.1010 - val_accuracy: 0.9743 - val_loss: 0.0926\n",
      "Epoch 4/24\n",
      "\u001b[1m413/422\u001b[0m \u001b[32m━━━━━━━━━━━━━━━━━━━\u001b[0m\u001b[37m━\u001b[0m \u001b[1m0s\u001b[0m 6ms/step - accuracy: 0.9769 - loss: 0.0769\n",
      "Epoch 4: val_loss improved from 0.09261 to 0.07942, saving model to best_model.keras\n",
      "\u001b[1m422/422\u001b[0m \u001b[32m━━━━━━━━━━━━━━━━━━━━\u001b[0m\u001b[37m\u001b[0m \u001b[1m5s\u001b[0m 6ms/step - accuracy: 0.9769 - loss: 0.0768 - val_accuracy: 0.9785 - val_loss: 0.0794\n",
      "Epoch 5/24\n",
      "\u001b[1m419/422\u001b[0m \u001b[32m━━━━━━━━━━━━━━━━━━━\u001b[0m\u001b[37m━\u001b[0m \u001b[1m0s\u001b[0m 5ms/step - accuracy: 0.9814 - loss: 0.0632\n",
      "Epoch 5: val_loss improved from 0.07942 to 0.07904, saving model to best_model.keras\n",
      "\u001b[1m422/422\u001b[0m \u001b[32m━━━━━━━━━━━━━━━━━━━━\u001b[0m\u001b[37m\u001b[0m \u001b[1m3s\u001b[0m 6ms/step - accuracy: 0.9814 - loss: 0.0632 - val_accuracy: 0.9792 - val_loss: 0.0790\n",
      "Epoch 6/24\n",
      "\u001b[1m419/422\u001b[0m \u001b[32m━━━━━━━━━━━━━━━━━━━\u001b[0m\u001b[37m━\u001b[0m \u001b[1m0s\u001b[0m 5ms/step - accuracy: 0.9842 - loss: 0.0514\n",
      "Epoch 6: val_loss improved from 0.07904 to 0.06061, saving model to best_model.keras\n",
      "\u001b[1m422/422\u001b[0m \u001b[32m━━━━━━━━━━━━━━━━━━━━\u001b[0m\u001b[37m\u001b[0m \u001b[1m3s\u001b[0m 6ms/step - accuracy: 0.9842 - loss: 0.0514 - val_accuracy: 0.9827 - val_loss: 0.0606\n",
      "Epoch 7/24\n",
      "\u001b[1m417/422\u001b[0m \u001b[32m━━━━━━━━━━━━━━━━━━━\u001b[0m\u001b[37m━\u001b[0m \u001b[1m0s\u001b[0m 6ms/step - accuracy: 0.9859 - loss: 0.0460\n",
      "Epoch 7: val_loss improved from 0.06061 to 0.05095, saving model to best_model.keras\n",
      "\u001b[1m422/422\u001b[0m \u001b[32m━━━━━━━━━━━━━━━━━━━━\u001b[0m\u001b[37m\u001b[0m \u001b[1m3s\u001b[0m 6ms/step - accuracy: 0.9859 - loss: 0.0459 - val_accuracy: 0.9853 - val_loss: 0.0510\n",
      "Epoch 8/24\n",
      "\u001b[1m412/422\u001b[0m \u001b[32m━━━━━━━━━━━━━━━━━━━\u001b[0m\u001b[37m━\u001b[0m \u001b[1m0s\u001b[0m 6ms/step - accuracy: 0.9876 - loss: 0.0388\n",
      "Epoch 8: val_loss improved from 0.05095 to 0.04473, saving model to best_model.keras\n",
      "\u001b[1m422/422\u001b[0m \u001b[32m━━━━━━━━━━━━━━━━━━━━\u001b[0m\u001b[37m\u001b[0m \u001b[1m3s\u001b[0m 6ms/step - accuracy: 0.9877 - loss: 0.0387 - val_accuracy: 0.9872 - val_loss: 0.0447\n",
      "Epoch 9/24\n",
      "\u001b[1m418/422\u001b[0m \u001b[32m━━━━━━━━━━━━━━━━━━━\u001b[0m\u001b[37m━\u001b[0m \u001b[1m0s\u001b[0m 7ms/step - accuracy: 0.9902 - loss: 0.0319\n",
      "Epoch 9: val_loss improved from 0.04473 to 0.03803, saving model to best_model.keras\n",
      "\u001b[1m422/422\u001b[0m \u001b[32m━━━━━━━━━━━━━━━━━━━━\u001b[0m\u001b[37m\u001b[0m \u001b[1m4s\u001b[0m 8ms/step - accuracy: 0.9902 - loss: 0.0319 - val_accuracy: 0.9890 - val_loss: 0.0380\n",
      "Epoch 10/24\n",
      "\u001b[1m419/422\u001b[0m \u001b[32m━━━━━━━━━━━━━━━━━━━\u001b[0m\u001b[37m━\u001b[0m \u001b[1m0s\u001b[0m 6ms/step - accuracy: 0.9911 - loss: 0.0292\n",
      "Epoch 10: val_loss improved from 0.03803 to 0.03552, saving model to best_model.keras\n",
      "\u001b[1m422/422\u001b[0m \u001b[32m━━━━━━━━━━━━━━━━━━━━\u001b[0m\u001b[37m\u001b[0m \u001b[1m3s\u001b[0m 6ms/step - accuracy: 0.9911 - loss: 0.0292 - val_accuracy: 0.9902 - val_loss: 0.0355\n",
      "Epoch 11/24\n",
      "\u001b[1m413/422\u001b[0m \u001b[32m━━━━━━━━━━━━━━━━━━━\u001b[0m\u001b[37m━\u001b[0m \u001b[1m0s\u001b[0m 6ms/step - accuracy: 0.9924 - loss: 0.0250\n",
      "Epoch 11: val_loss improved from 0.03552 to 0.02884, saving model to best_model.keras\n",
      "\u001b[1m422/422\u001b[0m \u001b[32m━━━━━━━━━━━━━━━━━━━━\u001b[0m\u001b[37m\u001b[0m \u001b[1m3s\u001b[0m 6ms/step - accuracy: 0.9924 - loss: 0.0249 - val_accuracy: 0.9915 - val_loss: 0.0288\n",
      "Epoch 12/24\n",
      "\u001b[1m410/422\u001b[0m \u001b[32m━━━━━━━━━━━━━━━━━━━\u001b[0m\u001b[37m━\u001b[0m \u001b[1m0s\u001b[0m 5ms/step - accuracy: 0.9930 - loss: 0.0220\n",
      "Epoch 12: val_loss improved from 0.02884 to 0.02759, saving model to best_model.keras\n",
      "\u001b[1m422/422\u001b[0m \u001b[32m━━━━━━━━━━━━━━━━━━━━\u001b[0m\u001b[37m\u001b[0m \u001b[1m3s\u001b[0m 6ms/step - accuracy: 0.9930 - loss: 0.0219 - val_accuracy: 0.9918 - val_loss: 0.0276\n",
      "Epoch 13/24\n",
      "\u001b[1m414/422\u001b[0m \u001b[32m━━━━━━━━━━━━━━━━━━━\u001b[0m\u001b[37m━\u001b[0m \u001b[1m0s\u001b[0m 6ms/step - accuracy: 0.9927 - loss: 0.0224\n",
      "Epoch 13: val_loss improved from 0.02759 to 0.02325, saving model to best_model.keras\n",
      "\u001b[1m422/422\u001b[0m \u001b[32m━━━━━━━━━━━━━━━━━━━━\u001b[0m\u001b[37m\u001b[0m \u001b[1m3s\u001b[0m 6ms/step - accuracy: 0.9927 - loss: 0.0223 - val_accuracy: 0.9930 - val_loss: 0.0232\n",
      "Epoch 14/24\n",
      "\u001b[1m417/422\u001b[0m \u001b[32m━━━━━━━━━━━━━━━━━━━\u001b[0m\u001b[37m━\u001b[0m \u001b[1m0s\u001b[0m 6ms/step - accuracy: 0.9944 - loss: 0.0159\n",
      "Epoch 14: val_loss improved from 0.02325 to 0.02130, saving model to best_model.keras\n",
      "\u001b[1m422/422\u001b[0m \u001b[32m━━━━━━━━━━━━━━━━━━━━\u001b[0m\u001b[37m\u001b[0m \u001b[1m3s\u001b[0m 7ms/step - accuracy: 0.9944 - loss: 0.0159 - val_accuracy: 0.9948 - val_loss: 0.0213\n",
      "Epoch 15/24\n",
      "\u001b[1m419/422\u001b[0m \u001b[32m━━━━━━━━━━━━━━━━━━━\u001b[0m\u001b[37m━\u001b[0m \u001b[1m0s\u001b[0m 6ms/step - accuracy: 0.9960 - loss: 0.0136\n",
      "Epoch 15: val_loss did not improve from 0.02130\n",
      "\u001b[1m422/422\u001b[0m \u001b[32m━━━━━━━━━━━━━━━━━━━━\u001b[0m\u001b[37m\u001b[0m \u001b[1m3s\u001b[0m 6ms/step - accuracy: 0.9961 - loss: 0.0136 - val_accuracy: 0.9947 - val_loss: 0.0214\n",
      "Epoch 16/24\n",
      "\u001b[1m412/422\u001b[0m \u001b[32m━━━━━━━━━━━━━━━━━━━\u001b[0m\u001b[37m━\u001b[0m \u001b[1m0s\u001b[0m 6ms/step - accuracy: 0.9965 - loss: 0.0124\n",
      "Epoch 16: val_loss improved from 0.02130 to 0.01253, saving model to best_model.keras\n",
      "\u001b[1m422/422\u001b[0m \u001b[32m━━━━━━━━━━━━━━━━━━━━\u001b[0m\u001b[37m\u001b[0m \u001b[1m3s\u001b[0m 6ms/step - accuracy: 0.9966 - loss: 0.0124 - val_accuracy: 0.9955 - val_loss: 0.0125\n",
      "Epoch 17/24\n",
      "\u001b[1m417/422\u001b[0m \u001b[32m━━━━━━━━━━━━━━━━━━━\u001b[0m\u001b[37m━\u001b[0m \u001b[1m0s\u001b[0m 6ms/step - accuracy: 0.9954 - loss: 0.0136\n",
      "Epoch 17: val_loss improved from 0.01253 to 0.01226, saving model to best_model.keras\n",
      "\u001b[1m422/422\u001b[0m \u001b[32m━━━━━━━━━━━━━━━━━━━━\u001b[0m\u001b[37m\u001b[0m \u001b[1m3s\u001b[0m 7ms/step - accuracy: 0.9954 - loss: 0.0135 - val_accuracy: 0.9972 - val_loss: 0.0123\n",
      "Epoch 18/24\n",
      "\u001b[1m410/422\u001b[0m \u001b[32m━━━━━━━━━━━━━━━━━━━\u001b[0m\u001b[37m━\u001b[0m \u001b[1m0s\u001b[0m 6ms/step - accuracy: 0.9960 - loss: 0.0139\n",
      "Epoch 18: val_loss did not improve from 0.01226\n",
      "\u001b[1m422/422\u001b[0m \u001b[32m━━━━━━━━━━━━━━━━━━━━\u001b[0m\u001b[37m\u001b[0m \u001b[1m3s\u001b[0m 6ms/step - accuracy: 0.9960 - loss: 0.0139 - val_accuracy: 0.9925 - val_loss: 0.0183\n",
      "Epoch 19/24\n",
      "\u001b[1m415/422\u001b[0m \u001b[32m━━━━━━━━━━━━━━━━━━━\u001b[0m\u001b[37m━\u001b[0m \u001b[1m0s\u001b[0m 6ms/step - accuracy: 0.9961 - loss: 0.0119\n",
      "Epoch 19: val_loss improved from 0.01226 to 0.00940, saving model to best_model.keras\n",
      "\u001b[1m422/422\u001b[0m \u001b[32m━━━━━━━━━━━━━━━━━━━━\u001b[0m\u001b[37m\u001b[0m \u001b[1m3s\u001b[0m 7ms/step - accuracy: 0.9961 - loss: 0.0119 - val_accuracy: 0.9967 - val_loss: 0.0094\n",
      "Epoch 20/24\n",
      "\u001b[1m420/422\u001b[0m \u001b[32m━━━━━━━━━━━━━━━━━━━\u001b[0m\u001b[37m━\u001b[0m \u001b[1m0s\u001b[0m 6ms/step - accuracy: 0.9958 - loss: 0.0114\n",
      "Epoch 20: val_loss did not improve from 0.00940\n",
      "\u001b[1m422/422\u001b[0m \u001b[32m━━━━━━━━━━━━━━━━━━━━\u001b[0m\u001b[37m\u001b[0m \u001b[1m5s\u001b[0m 6ms/step - accuracy: 0.9958 - loss: 0.0114 - val_accuracy: 0.9968 - val_loss: 0.0103\n",
      "Epoch 21/24\n",
      "\u001b[1m412/422\u001b[0m \u001b[32m━━━━━━━━━━━━━━━━━━━\u001b[0m\u001b[37m━\u001b[0m \u001b[1m0s\u001b[0m 6ms/step - accuracy: 0.9974 - loss: 0.0079\n",
      "Epoch 21: val_loss did not improve from 0.00940\n",
      "\u001b[1m422/422\u001b[0m \u001b[32m━━━━━━━━━━━━━━━━━━━━\u001b[0m\u001b[37m\u001b[0m \u001b[1m3s\u001b[0m 6ms/step - accuracy: 0.9974 - loss: 0.0079 - val_accuracy: 0.9955 - val_loss: 0.0148\n",
      "Epoch 22/24\n",
      "\u001b[1m411/422\u001b[0m \u001b[32m━━━━━━━━━━━━━━━━━━━\u001b[0m\u001b[37m━\u001b[0m \u001b[1m0s\u001b[0m 6ms/step - accuracy: 0.9960 - loss: 0.0124\n",
      "Epoch 22: val_loss did not improve from 0.00940\n",
      "\u001b[1m422/422\u001b[0m \u001b[32m━━━━━━━━━━━━━━━━━━━━\u001b[0m\u001b[37m\u001b[0m \u001b[1m3s\u001b[0m 6ms/step - accuracy: 0.9960 - loss: 0.0123 - val_accuracy: 0.9952 - val_loss: 0.0115\n",
      "Epoch 23/24\n",
      "\u001b[1m418/422\u001b[0m \u001b[32m━━━━━━━━━━━━━━━━━━━\u001b[0m\u001b[37m━\u001b[0m \u001b[1m0s\u001b[0m 6ms/step - accuracy: 0.9971 - loss: 0.0089\n",
      "Epoch 23: val_loss improved from 0.00940 to 0.00590, saving model to best_model.keras\n",
      "\u001b[1m422/422\u001b[0m \u001b[32m━━━━━━━━━━━━━━━━━━━━\u001b[0m\u001b[37m\u001b[0m \u001b[1m3s\u001b[0m 7ms/step - accuracy: 0.9971 - loss: 0.0089 - val_accuracy: 0.9985 - val_loss: 0.0059\n",
      "Epoch 24/24\n",
      "\u001b[1m419/422\u001b[0m \u001b[32m━━━━━━━━━━━━━━━━━━━\u001b[0m\u001b[37m━\u001b[0m \u001b[1m0s\u001b[0m 6ms/step - accuracy: 0.9977 - loss: 0.0066\n",
      "Epoch 24: val_loss improved from 0.00590 to 0.00583, saving model to best_model.keras\n",
      "\u001b[1m422/422\u001b[0m \u001b[32m━━━━━━━━━━━━━━━━━━━━\u001b[0m\u001b[37m\u001b[0m \u001b[1m3s\u001b[0m 6ms/step - accuracy: 0.9977 - loss: 0.0066 - val_accuracy: 0.9982 - val_loss: 0.0058\n",
      "Restoring model weights from the end of the best epoch: 23.\n"
     ]
    },
    {
     "data": {
      "text/plain": [
       "<keras.src.callbacks.history.History at 0x7dbeb5f710c0>"
      ]
     },
     "execution_count": 12,
     "metadata": {},
     "output_type": "execute_result"
    }
   ],
   "source": [
    "NUM_EPOCHS = 24\n",
    "model.fit(\n",
    "    train_data, \n",
    "    epochs= NUM_EPOCHS, \n",
    "    validation_data=(validation_inputs, validation_targets),\n",
    "    callbacks=[callbacks]\n",
    ")"
   ]
  },
  {
   "cell_type": "code",
   "execution_count": 13,
   "id": "917437bc",
   "metadata": {
    "execution": {
     "iopub.execute_input": "2024-10-25T00:51:12.814005Z",
     "iopub.status.busy": "2024-10-25T00:51:12.813574Z",
     "iopub.status.idle": "2024-10-25T00:51:13.416193Z",
     "shell.execute_reply": "2024-10-25T00:51:13.414703Z"
    },
    "papermill": {
     "duration": 0.690059,
     "end_time": "2024-10-25T00:51:13.418591",
     "exception": false,
     "start_time": "2024-10-25T00:51:12.728532",
     "status": "completed"
    },
    "tags": []
   },
   "outputs": [
    {
     "name": "stdout",
     "output_type": "stream",
     "text": [
      "\u001b[1m1/1\u001b[0m \u001b[32m━━━━━━━━━━━━━━━━━━━━\u001b[0m\u001b[37m\u001b[0m \u001b[1m1s\u001b[0m 590ms/step - accuracy: 0.9781 - loss: 0.1044\n",
      "Test loss: 0.10. Test accuracy: 97.81%\n"
     ]
    }
   ],
   "source": [
    "test_loss, test_accuracy = model.evaluate(test_data)\n",
    "print('Test loss: {0:.2f}. Test accuracy: {1:.2f}%'.format(test_loss, test_accuracy*100.))\n"
   ]
  }
 ],
 "metadata": {
  "kaggle": {
   "accelerator": "none",
   "dataSources": [],
   "dockerImageVersionId": 30786,
   "isGpuEnabled": false,
   "isInternetEnabled": true,
   "language": "python",
   "sourceType": "notebook"
  },
  "kernelspec": {
   "display_name": "Python 3",
   "language": "python",
   "name": "python3"
  },
  "language_info": {
   "codemirror_mode": {
    "name": "ipython",
    "version": 3
   },
   "file_extension": ".py",
   "mimetype": "text/x-python",
   "name": "python",
   "nbconvert_exporter": "python",
   "pygments_lexer": "ipython3",
   "version": "3.10.14"
  },
  "papermill": {
   "default_parameters": {},
   "duration": 108.512765,
   "end_time": "2024-10-25T00:51:16.007739",
   "environment_variables": {},
   "exception": null,
   "input_path": "__notebook__.ipynb",
   "output_path": "__notebook__.ipynb",
   "parameters": {},
   "start_time": "2024-10-25T00:49:27.494974",
   "version": "2.6.0"
  },
  "widgets": {
   "application/vnd.jupyter.widget-state+json": {
    "state": {
     "0b456bd0b4ee41529703a07c3ce7a8b7": {
      "model_module": "@jupyter-widgets/controls",
      "model_module_version": "1.5.0",
      "model_name": "HBoxModel",
      "state": {
       "_dom_classes": [],
       "_model_module": "@jupyter-widgets/controls",
       "_model_module_version": "1.5.0",
       "_model_name": "HBoxModel",
       "_view_count": null,
       "_view_module": "@jupyter-widgets/controls",
       "_view_module_version": "1.5.0",
       "_view_name": "HBoxView",
       "box_style": "",
       "children": [
        "IPY_MODEL_dd9d7abce69848a4a6830b7c9360df9d",
        "IPY_MODEL_863f8d10b1c64c358b39a0a1078c6b2b",
        "IPY_MODEL_cfe0e46eca9b40fdbfa3c2e32157c130"
       ],
       "layout": "IPY_MODEL_2e44d33ff3f8451aab7bc378c4389f49"
      }
     },
     "0e44e20552b0496aae8c2305d56e369a": {
      "model_module": "@jupyter-widgets/base",
      "model_module_version": "1.2.0",
      "model_name": "LayoutModel",
      "state": {
       "_model_module": "@jupyter-widgets/base",
       "_model_module_version": "1.2.0",
       "_model_name": "LayoutModel",
       "_view_count": null,
       "_view_module": "@jupyter-widgets/base",
       "_view_module_version": "1.2.0",
       "_view_name": "LayoutView",
       "align_content": null,
       "align_items": null,
       "align_self": null,
       "border": null,
       "bottom": null,
       "display": null,
       "flex": null,
       "flex_flow": null,
       "grid_area": null,
       "grid_auto_columns": null,
       "grid_auto_flow": null,
       "grid_auto_rows": null,
       "grid_column": null,
       "grid_gap": null,
       "grid_row": null,
       "grid_template_areas": null,
       "grid_template_columns": null,
       "grid_template_rows": null,
       "height": null,
       "justify_content": null,
       "justify_items": null,
       "left": null,
       "margin": null,
       "max_height": null,
       "max_width": null,
       "min_height": null,
       "min_width": null,
       "object_fit": null,
       "object_position": null,
       "order": null,
       "overflow": null,
       "overflow_x": null,
       "overflow_y": null,
       "padding": null,
       "right": null,
       "top": null,
       "visibility": null,
       "width": null
      }
     },
     "2802bbbf9a004c1ea13bd2d33242adf7": {
      "model_module": "@jupyter-widgets/controls",
      "model_module_version": "1.5.0",
      "model_name": "DescriptionStyleModel",
      "state": {
       "_model_module": "@jupyter-widgets/controls",
       "_model_module_version": "1.5.0",
       "_model_name": "DescriptionStyleModel",
       "_view_count": null,
       "_view_module": "@jupyter-widgets/base",
       "_view_module_version": "1.2.0",
       "_view_name": "StyleView",
       "description_width": ""
      }
     },
     "2e44d33ff3f8451aab7bc378c4389f49": {
      "model_module": "@jupyter-widgets/base",
      "model_module_version": "1.2.0",
      "model_name": "LayoutModel",
      "state": {
       "_model_module": "@jupyter-widgets/base",
       "_model_module_version": "1.2.0",
       "_model_name": "LayoutModel",
       "_view_count": null,
       "_view_module": "@jupyter-widgets/base",
       "_view_module_version": "1.2.0",
       "_view_name": "LayoutView",
       "align_content": null,
       "align_items": null,
       "align_self": null,
       "border": null,
       "bottom": null,
       "display": null,
       "flex": null,
       "flex_flow": null,
       "grid_area": null,
       "grid_auto_columns": null,
       "grid_auto_flow": null,
       "grid_auto_rows": null,
       "grid_column": null,
       "grid_gap": null,
       "grid_row": null,
       "grid_template_areas": null,
       "grid_template_columns": null,
       "grid_template_rows": null,
       "height": null,
       "justify_content": null,
       "justify_items": null,
       "left": null,
       "margin": null,
       "max_height": null,
       "max_width": null,
       "min_height": null,
       "min_width": null,
       "object_fit": null,
       "object_position": null,
       "order": null,
       "overflow": null,
       "overflow_x": null,
       "overflow_y": null,
       "padding": null,
       "right": null,
       "top": null,
       "visibility": null,
       "width": null
      }
     },
     "5e9037a27d184d2b8dff6f479bc460ed": {
      "model_module": "@jupyter-widgets/controls",
      "model_module_version": "1.5.0",
      "model_name": "DescriptionStyleModel",
      "state": {
       "_model_module": "@jupyter-widgets/controls",
       "_model_module_version": "1.5.0",
       "_model_name": "DescriptionStyleModel",
       "_view_count": null,
       "_view_module": "@jupyter-widgets/base",
       "_view_module_version": "1.2.0",
       "_view_name": "StyleView",
       "description_width": ""
      }
     },
     "796da28c36804afab6b1162204731f90": {
      "model_module": "@jupyter-widgets/base",
      "model_module_version": "1.2.0",
      "model_name": "LayoutModel",
      "state": {
       "_model_module": "@jupyter-widgets/base",
       "_model_module_version": "1.2.0",
       "_model_name": "LayoutModel",
       "_view_count": null,
       "_view_module": "@jupyter-widgets/base",
       "_view_module_version": "1.2.0",
       "_view_name": "LayoutView",
       "align_content": null,
       "align_items": null,
       "align_self": null,
       "border": null,
       "bottom": null,
       "display": null,
       "flex": null,
       "flex_flow": null,
       "grid_area": null,
       "grid_auto_columns": null,
       "grid_auto_flow": null,
       "grid_auto_rows": null,
       "grid_column": null,
       "grid_gap": null,
       "grid_row": null,
       "grid_template_areas": null,
       "grid_template_columns": null,
       "grid_template_rows": null,
       "height": null,
       "justify_content": null,
       "justify_items": null,
       "left": null,
       "margin": null,
       "max_height": null,
       "max_width": null,
       "min_height": null,
       "min_width": null,
       "object_fit": null,
       "object_position": null,
       "order": null,
       "overflow": null,
       "overflow_x": null,
       "overflow_y": null,
       "padding": null,
       "right": null,
       "top": null,
       "visibility": null,
       "width": null
      }
     },
     "863f8d10b1c64c358b39a0a1078c6b2b": {
      "model_module": "@jupyter-widgets/controls",
      "model_module_version": "1.5.0",
      "model_name": "FloatProgressModel",
      "state": {
       "_dom_classes": [],
       "_model_module": "@jupyter-widgets/controls",
       "_model_module_version": "1.5.0",
       "_model_name": "FloatProgressModel",
       "_view_count": null,
       "_view_module": "@jupyter-widgets/controls",
       "_view_module_version": "1.5.0",
       "_view_name": "ProgressView",
       "bar_style": "success",
       "description": "",
       "description_tooltip": null,
       "layout": "IPY_MODEL_796da28c36804afab6b1162204731f90",
       "max": 5.0,
       "min": 0.0,
       "orientation": "horizontal",
       "style": "IPY_MODEL_f0cb245923e8436da5cfaccfd26bfb90",
       "value": 5.0
      }
     },
     "cfe0e46eca9b40fdbfa3c2e32157c130": {
      "model_module": "@jupyter-widgets/controls",
      "model_module_version": "1.5.0",
      "model_name": "HTMLModel",
      "state": {
       "_dom_classes": [],
       "_model_module": "@jupyter-widgets/controls",
       "_model_module_version": "1.5.0",
       "_model_name": "HTMLModel",
       "_view_count": null,
       "_view_module": "@jupyter-widgets/controls",
       "_view_module_version": "1.5.0",
       "_view_name": "HTMLView",
       "description": "",
       "description_tooltip": null,
       "layout": "IPY_MODEL_eeed638e6cf34ce7883b028e19a4032c",
       "placeholder": "​",
       "style": "IPY_MODEL_5e9037a27d184d2b8dff6f479bc460ed",
       "value": " 5/5 [00:01&lt;00:00,  3.43 file/s]"
      }
     },
     "dd9d7abce69848a4a6830b7c9360df9d": {
      "model_module": "@jupyter-widgets/controls",
      "model_module_version": "1.5.0",
      "model_name": "HTMLModel",
      "state": {
       "_dom_classes": [],
       "_model_module": "@jupyter-widgets/controls",
       "_model_module_version": "1.5.0",
       "_model_name": "HTMLModel",
       "_view_count": null,
       "_view_module": "@jupyter-widgets/controls",
       "_view_module_version": "1.5.0",
       "_view_name": "HTMLView",
       "description": "",
       "description_tooltip": null,
       "layout": "IPY_MODEL_0e44e20552b0496aae8c2305d56e369a",
       "placeholder": "​",
       "style": "IPY_MODEL_2802bbbf9a004c1ea13bd2d33242adf7",
       "value": "Dl Completed...: 100%"
      }
     },
     "eeed638e6cf34ce7883b028e19a4032c": {
      "model_module": "@jupyter-widgets/base",
      "model_module_version": "1.2.0",
      "model_name": "LayoutModel",
      "state": {
       "_model_module": "@jupyter-widgets/base",
       "_model_module_version": "1.2.0",
       "_model_name": "LayoutModel",
       "_view_count": null,
       "_view_module": "@jupyter-widgets/base",
       "_view_module_version": "1.2.0",
       "_view_name": "LayoutView",
       "align_content": null,
       "align_items": null,
       "align_self": null,
       "border": null,
       "bottom": null,
       "display": null,
       "flex": null,
       "flex_flow": null,
       "grid_area": null,
       "grid_auto_columns": null,
       "grid_auto_flow": null,
       "grid_auto_rows": null,
       "grid_column": null,
       "grid_gap": null,
       "grid_row": null,
       "grid_template_areas": null,
       "grid_template_columns": null,
       "grid_template_rows": null,
       "height": null,
       "justify_content": null,
       "justify_items": null,
       "left": null,
       "margin": null,
       "max_height": null,
       "max_width": null,
       "min_height": null,
       "min_width": null,
       "object_fit": null,
       "object_position": null,
       "order": null,
       "overflow": null,
       "overflow_x": null,
       "overflow_y": null,
       "padding": null,
       "right": null,
       "top": null,
       "visibility": null,
       "width": null
      }
     },
     "f0cb245923e8436da5cfaccfd26bfb90": {
      "model_module": "@jupyter-widgets/controls",
      "model_module_version": "1.5.0",
      "model_name": "ProgressStyleModel",
      "state": {
       "_model_module": "@jupyter-widgets/controls",
       "_model_module_version": "1.5.0",
       "_model_name": "ProgressStyleModel",
       "_view_count": null,
       "_view_module": "@jupyter-widgets/base",
       "_view_module_version": "1.2.0",
       "_view_name": "StyleView",
       "bar_color": null,
       "description_width": ""
      }
     }
    },
    "version_major": 2,
    "version_minor": 0
   }
  }
 },
 "nbformat": 4,
 "nbformat_minor": 5
}
